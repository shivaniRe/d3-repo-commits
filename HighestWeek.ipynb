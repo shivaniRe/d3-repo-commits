{
 "cells": [
  {
   "cell_type": "code",
   "execution_count": 14,
   "metadata": {
    "collapsed": false
   },
   "outputs": [
    {
     "name": "stdout",
     "output_type": "stream",
     "text": [
      "The largest number of commits is  42  for the week  2014-11-12 to  2014-11-18\n"
     ]
    }
   ],
   "source": [
    "from datetime import date, timedelta\n",
    "import re\n",
    "\n",
    "#Function to calculate date from week number\n",
    "def findDate(year, week):\n",
    "    d = date(year,1,1)\n",
    "    dlt = timedelta(days = (week-1)*7)\n",
    "    return d + dlt, d + dlt + timedelta(days = 6)\n",
    "\n",
    "# Read input file into an array\n",
    "weeklyCommits = []\n",
    "x = 0\n",
    "file = open(\"week_commits.txt\")\n",
    "for line in file:\n",
    "    if re.search('[0-9]+', line) and x < 52:\n",
    "        weeklyCommits.append((x, int(line.rstrip('\\n').rstrip(',').strip())))\n",
    "        x = x+1\n",
    "\n",
    "# Analyse the weeklyCommits array to find out the largest number of commits\n",
    "m = 0\n",
    "index = 0\n",
    "w = []\n",
    "for k, v in weeklyCommits:\n",
    "    if v > m:\n",
    "        m = v\n",
    "        index = k-8\n",
    "        \n",
    "#Get the date based on the week number using findDate function\n",
    "if index > 0:\n",
    "    w = findDate(2015, index)\n",
    "elif index <= 0:\n",
    "    w = findDate(2014, index+52)\n",
    "\n",
    "print \"The largest number of commits is \", m, \" for the week \",w[0], \"to \", w[1]"
   ]
  },
  {
   "cell_type": "code",
   "execution_count": null,
   "metadata": {
    "collapsed": true
   },
   "outputs": [],
   "source": []
  }
 ],
 "metadata": {
  "kernelspec": {
   "display_name": "Python 2",
   "language": "python",
   "name": "python2"
  },
  "language_info": {
   "codemirror_mode": {
    "name": "ipython",
    "version": 2
   },
   "file_extension": ".py",
   "mimetype": "text/x-python",
   "name": "python",
   "nbconvert_exporter": "python",
   "pygments_lexer": "ipython2",
   "version": "2.7.6"
  }
 },
 "nbformat": 4,
 "nbformat_minor": 0
}

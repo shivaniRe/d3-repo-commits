{
 "cells": [
  {
   "cell_type": "code",
   "execution_count": 12,
   "metadata": {
    "collapsed": false
   },
   "outputs": [],
   "source": [
    "import datetime\n",
    "import re\n",
    "import matplotlib.pyplot as plt\n",
    "import matplotlib.dates as mdates\n",
    "\n",
    "# Function to convert Unix timestamp to Date\n",
    "def convDate(utime):\n",
    "    value = datetime.datetime.fromtimestamp(utime)\n",
    "    return value.strftime('%Y-%m-%d')\n",
    "\n",
    "# Dictionary for days of a week\n",
    "dayWeek = {1:'Sunday', 2:'Monday', 3:'Tuesday', 4:'Wednesday', 5:'Thursday', 6:'Friday', 7:'Saturday'}\n",
    "\n",
    "a = []\n",
    "x = 0\n",
    "\n",
    "#Open file and read lines into a list\n",
    "file = open (\"daily_commits.txt\")\n",
    "for line in file:\n",
    "    if re.search('[0-9]+', line):\n",
    "        a.append((x, line.rstrip('\\n').rstrip(',').strip()))\n",
    "        x = x+1\n",
    "\n",
    "#Extract commits for individual weeks to plot 'total commits per week' and 'highest daily commits per week' \n",
    "total = []\n",
    "week = []\n",
    "days = []\n",
    "c = []\n",
    "i = 9\n",
    "z = 0\n",
    "while i < 468:\n",
    "    b = a[(i-9):i]\n",
    "    m = 0\n",
    "    index = 0\n",
    "    u = re.findall('[0-9]+', b[8][1])\n",
    "    t = float(u[0])\n",
    "    for k, v in b[:7]:\n",
    "        if v > m:\n",
    "            m = v\n",
    "            index = k - (z*9)\n",
    "        days.append((v, dayWeek[(k+1 -(z*9))], convDate(t)))\n",
    "    \n",
    "    c.append ((m, dayWeek[index+1], convDate(t)))\n",
    "    z = z+1\n",
    "    i = i+9\n",
    "    d = re.findall('[0-9]+', b[7][1])\n",
    "    total.append (int(d[0]))\n",
    "    week.append(convDate(t))\n",
    "    dates = mdates.datestr2num(week)\n",
    "    \n",
    "\n",
    "com = [0, 1, 2, 3, 4, 5, 6]\n",
    "weekDays = []\n",
    "\n",
    "# Function to plot highest daily commits for the selected week\n",
    "def onclick(event):\n",
    "    \n",
    "    commits = []\n",
    "    global ix, iy, p\n",
    "    ix, iy = event.xdata, event.ydata\n",
    "    p = mdates.num2date(ix)\n",
    "    p1 = p.strftime('%Y-%m-%d')\n",
    "    \n",
    "    for i in range(len(days)):\n",
    "        if datetime.datetime.strptime(days[i][2], \"%Y-%m-%d\") > datetime.datetime.strptime(p1, '%Y-%m-%d'):\n",
    "            for j in reversed(range(7)):\n",
    "                commits.append(int(days[i-j-1][0]))\n",
    "                weekDays.append(days[i-j-1][1])\n",
    "            break\n",
    "    \n",
    "    plt.cla()\n",
    "    ax2.plot(com, commits, 'go-')\n",
    "    plt.xticks(com, weekDays)\n",
    "    ax2.set_xlabel('Days of Week')\n",
    "    ax2.set_ylabel('Total No of Commits')\n",
    "    ax2.set_title('Highest Daily Commits Per Week')\n",
    "    fig.canvas.draw()\n",
    "\n",
    "    return \n",
    "\n",
    "   \n",
    "    \n",
    "fig = plt.figure()\n",
    "ax1 = fig.add_subplot(2,1,1)\n",
    "ax1.bar(dates, total, width=7) \n",
    "ax1.xaxis_date()\n",
    "ax1.set_xlabel(\"Weeks\")\n",
    "ax1.set_ylabel('Total No of Commits')\n",
    "ax1.set_title('Number of Commits Per Week')\n",
    "\n",
    "ax2 = fig.add_subplot(2,1,2)\n",
    "\n",
    "#Call click function\n",
    "fig.canvas.mpl_connect('button_press_event', onclick)\n",
    "\n",
    "plt.show()\n",
    "\n",
    "\n"
   ]
  },
  {
   "cell_type": "code",
   "execution_count": null,
   "metadata": {
    "collapsed": true
   },
   "outputs": [],
   "source": []
  },
  {
   "cell_type": "code",
   "execution_count": null,
   "metadata": {
    "collapsed": true
   },
   "outputs": [],
   "source": []
  },
  {
   "cell_type": "code",
   "execution_count": null,
   "metadata": {
    "collapsed": true
   },
   "outputs": [],
   "source": []
  },
  {
   "cell_type": "code",
   "execution_count": null,
   "metadata": {
    "collapsed": true
   },
   "outputs": [],
   "source": []
  },
  {
   "cell_type": "code",
   "execution_count": null,
   "metadata": {
    "collapsed": true
   },
   "outputs": [],
   "source": []
  },
  {
   "cell_type": "code",
   "execution_count": null,
   "metadata": {
    "collapsed": true
   },
   "outputs": [],
   "source": []
  },
  {
   "cell_type": "code",
   "execution_count": null,
   "metadata": {
    "collapsed": true
   },
   "outputs": [],
   "source": []
  }
 ],
 "metadata": {
  "kernelspec": {
   "display_name": "Python 2",
   "language": "python",
   "name": "python2"
  },
  "language_info": {
   "codemirror_mode": {
    "name": "ipython",
    "version": 2
   },
   "file_extension": ".py",
   "mimetype": "text/x-python",
   "name": "python",
   "nbconvert_exporter": "python",
   "pygments_lexer": "ipython2",
   "version": "2.7.6"
  }
 },
 "nbformat": 4,
 "nbformat_minor": 0
}
